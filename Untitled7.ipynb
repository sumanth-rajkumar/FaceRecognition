{
 "cells": [
  {
   "cell_type": "code",
   "execution_count": null,
   "id": "06057389-cf0b-4e80-ac9f-1705222e1200",
   "metadata": {},
   "outputs": [],
   "source": []
  }
 ],
 "metadata": {
  "kernelspec": {
   "display_name": "",
   "name": ""
  },
  "language_info": {
   "name": ""
  }
 },
 "nbformat": 4,
 "nbformat_minor": 5
}
